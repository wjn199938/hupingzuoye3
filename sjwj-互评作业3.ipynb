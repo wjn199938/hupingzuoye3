{
 "cells": [
  {
   "cell_type": "markdown",
   "metadata": {},
   "source": [
    "导入所需的库"
   ]
  },
  {
   "cell_type": "code",
   "execution_count": 11,
   "metadata": {},
   "outputs": [],
   "source": [
    "import gzip\n",
    "import numpy as np\n",
    "\n",
    "from sklearn.datasets import fetch_openml\n",
    "from sklearn.model_selection import train_test_split\n",
    "from sklearn.svm import SVC\n",
    "from sklearn.metrics import accuracy_score,recall_score,f1_score"
   ]
  },
  {
   "cell_type": "markdown",
   "metadata": {},
   "source": [
    "## 1. 读取 MNIST 数据：加载并处理手写数字图像数据及其对应的标签。"
   ]
  },
  {
   "cell_type": "markdown",
   "metadata": {},
   "source": [
    "### 特征缩放：对图像数据进行归一化处理，缩放到[0,1]范围。\n",
    "load_images函数用于读取MNIST数据集中的图片数据并进行预处理。\n",
    "首先使用gzip库中的gzip.open函数打开指定的文件，并按大端字节序读取前4个字节，将其解析为magic_number，表示该文件的格式标识。接着依次读取文件中图片的数量、每张图片的行数和列数，并将读取到的数据解析为数字格式(uint8)。\n",
    "接下来，读取剩余的数据，并使用np.frombuffer函数将其转换为numpy数组images。最后，将images数组进行形状变换，将每张图片展平成一个1维数组，并返回像素值范围缩放为[0,1]的images数组，以便于后续的机器学习算法使用。"
   ]
  },
  {
   "cell_type": "code",
   "execution_count": 2,
   "metadata": {},
   "outputs": [],
   "source": [
    "def load_images(filename):\n",
    "    with gzip.open(filename, 'rb') as f:\n",
    "        magic_number = int.from_bytes(f.read(4), 'big')\n",
    "        num_images = int.from_bytes(f.read(4), 'big')\n",
    "        num_rows = int.from_bytes(f.read(4), 'big')\n",
    "        num_cols = int.from_bytes(f.read(4), 'big')\n",
    "        images = np.frombuffer(f.read(), dtype=np.uint8)\n",
    "        images = images.reshape(num_images, num_rows * num_cols)\n",
    "        # 像素值范围缩放\n",
    "        return images/255.0"
   ]
  },
  {
   "cell_type": "markdown",
   "metadata": {},
   "source": [
    "### 读取标签数据\n",
    "load_labels函数用于读取MNIST数据集中的标签数据。\n",
    "首先使用gzip库中的gzip.open函数打开指定的文件，并按大端字节序读取前4个字节，将其解析为magic_number，表示该文件的格式标识。接着读取文件中标签的数量，并将其解析为数字格式(uint8)。最后，读取剩余的数据，并使用np.frombuffer函数将其转换为numpy数组labels，并返回labels数组，其中每个元素表示对应图片的数字标签。"
   ]
  },
  {
   "cell_type": "code",
   "execution_count": 3,
   "metadata": {},
   "outputs": [],
   "source": [
    "def load_labels(filename):\n",
    "    with gzip.open(filename, 'rb') as f:\n",
    "        magic_number = int.from_bytes(f.read(4), 'big')\n",
    "        num_labels = int.from_bytes(f.read(4), 'big')\n",
    "        labels = np.frombuffer(f.read(), dtype=np.uint8)\n",
    "        return labels"
   ]
  },
  {
   "cell_type": "markdown",
   "metadata": {},
   "source": [
    "## 2. 划分训练集和测试集：将图像数据划分为训练集和测试集"
   ]
  },
  {
   "cell_type": "code",
   "execution_count": 7,
   "metadata": {},
   "outputs": [],
   "source": [
    "# 加载训练集数据和标签\n",
    "X_train = load_images('train-images-idx3-ubyte.gz')\n",
    "y_train = load_labels('train-labels-idx1-ubyte.gz')"
   ]
  },
  {
   "cell_type": "code",
   "execution_count": 8,
   "metadata": {},
   "outputs": [],
   "source": [
    "# 加载测试集数据和标签\n",
    "X_test = load_images('t10k-images-idx3-ubyte.gz')\n",
    "y_test = load_labels('t10k-labels-idx1-ubyte.gz')"
   ]
  },
  {
   "cell_type": "code",
   "execution_count": 16,
   "metadata": {},
   "outputs": [
    {
     "name": "stdout",
     "output_type": "stream",
     "text": [
      "X_train shape: (60000, 784)\n",
      "y_train shape: (60000,)\n",
      "X_test shape: (10000, 784)\n",
      "y_test shape: (10000,)\n"
     ]
    }
   ],
   "source": [
    "print('X_train shape:', X_train.shape)\n",
    "print('y_train shape:', y_train.shape)\n",
    "print('X_test shape:', X_test.shape)\n",
    "print('y_test shape:', y_test.shape)"
   ]
  },
  {
   "cell_type": "markdown",
   "metadata": {},
   "source": [
    "## 3. 构建支持向量机模型：核函数分别选择线性核、多项式核、sigmoid和rbf训练模型。"
   ]
  },
  {
   "cell_type": "code",
   "execution_count": null,
   "metadata": {},
   "outputs": [],
   "source": [
    "# 核函数为linear\n",
    "svm1 = SVC(kernel='linear', C=1.0)\n",
    "svm1.fit(X_train, y_train)"
   ]
  },
  {
   "cell_type": "code",
   "execution_count": null,
   "metadata": {},
   "outputs": [],
   "source": [
    "# 核函数为poly\n",
    "svm2 = SVC(kernel='poly', C=1.0)\n",
    "svm2.fit(X_train, y_train)"
   ]
  },
  {
   "cell_type": "code",
   "execution_count": null,
   "metadata": {},
   "outputs": [],
   "source": [
    "# 核函数为sigmoid\n",
    "svm3 = SVC(kernel='sigmoid', C=1.0)\n",
    "svm3.fit(X_train, y_train)"
   ]
  },
  {
   "cell_type": "code",
   "execution_count": null,
   "metadata": {},
   "outputs": [],
   "source": [
    "# 核函数为rbf\n",
    "svm4 = SVC(kernel='rbf', C=1.0)\n",
    "svm4.fit(X_train, y_train)"
   ]
  },
  {
   "cell_type": "markdown",
   "metadata": {},
   "source": [
    "## 4. 模型评估：在测试集上进行预测，计算模型的准确率、召回率、F 1 值以评估模型性能。"
   ]
  },
  {
   "cell_type": "code",
   "execution_count": 23,
   "metadata": {},
   "outputs": [
    {
     "name": "stdout",
     "output_type": "stream",
     "text": [
      "Accuracy: 0.9792\n",
      "Recall: 0.9790919842945065\n",
      "F1: 0.9791298259748042\n"
     ]
    }
   ],
   "source": [
    "# 在测试集上进行预测并计算准确率、召回率及F1\n",
    "y_pred = svm4.predict(X_test)\n",
    "accuracy = accuracy_score(y_test, y_pred)\n",
    "recall = recall_score(y_test, y_pred,average='macro')\n",
    "f1 = f1_score(y_test, y_pred,average='macro')\n",
    "print('Accuracy:', accuracy)\n",
    "print('Recall:', recall)    \n",
    "print('F1:', f1)"
   ]
  },
  {
   "cell_type": "markdown",
   "metadata": {},
   "source": [
    "### 结论：由实验结果可以得出，当选择核函数为rbf时，效果最好，准确率为0.9792，召回率为0.9790919842945065，F1值为0.9791298259748042。"
   ]
  }
 ],
 "metadata": {
  "kernelspec": {
   "display_name": "Python 3",
   "language": "python",
   "name": "python3"
  },
  "language_info": {
   "codemirror_mode": {
    "name": "ipython",
    "version": 3
   },
   "file_extension": ".py",
   "mimetype": "text/x-python",
   "name": "python",
   "nbconvert_exporter": "python",
   "pygments_lexer": "ipython3",
   "version": "3.6.5"
  },
  "vscode": {
   "interpreter": {
    "hash": "e95c80d241c174e82f3f835b82757d6c52becf5aa2cabe8ee3668ec8f1d32fb5"
   }
  }
 },
 "nbformat": 4,
 "nbformat_minor": 2
}
